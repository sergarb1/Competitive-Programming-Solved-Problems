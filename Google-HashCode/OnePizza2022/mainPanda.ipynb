{
 "cells": [
  {
   "cell_type": "markdown",
   "metadata": {},
   "source": [
    "# Codigo Base ONE PIZZA 2022"
   ]
  },
  {
   "cell_type": "code",
   "execution_count": 10,
   "metadata": {},
   "outputs": [],
   "source": [
    "#!/usr/bin/python3\n",
    "import sys\n",
    "import random\n",
    "import pandas as pd\n",
    "\n",
    "\n",
    "#Variables globales\n",
    "nClientes=0\n",
    "leGusta=[]\n",
    "noLeGusta=[]\n",
    "ingredientesDisponibles=set()\n",
    "\n",
    "\n",
    "#Imprimir solucion\n",
    "\n",
    "def imprimirSolucion(s):\n",
    "    cad=str(len(s))\n",
    "\n",
    "    for x in s:\n",
    "        cad=cad + \" \" + x\n",
    "\n",
    "    print(cad)\n",
    "\n"
   ]
  },
  {
   "cell_type": "markdown",
   "metadata": {},
   "source": [
    "# Indicamos fichero a analizar"
   ]
  },
  {
   "cell_type": "code",
   "execution_count": 11,
   "metadata": {},
   "outputs": [],
   "source": [
    "\n",
    "#Indico que voy a \n",
    "fichero=\"e_elaborate.in\"\n",
    "sys.stdin = open(fichero, \"r\")\n"
   ]
  },
  {
   "cell_type": "markdown",
   "metadata": {},
   "source": [
    "# Leyendo datos"
   ]
  },
  {
   "cell_type": "code",
   "execution_count": 12,
   "metadata": {},
   "outputs": [],
   "source": [
    "\n",
    "#Leo el numero de potenciales clientes \n",
    "nClientes=int(sys.stdin.readline())\n",
    "\n",
    "\n",
    "#Por cada cliente, leemos sus preferencias que gustan y no gustan\n",
    "for i in range(nClientes):\n",
    "    leGusta.append(sys.stdin.readline().strip().split(\" \")[1:])\n",
    "    noLeGusta.append(sys.stdin.readline().strip().split(\" \")[1:])\n",
    "\n",
    "    #Incluimos ingredientes que gustan a la lista total de ingredientes\n",
    "    for ingr in leGusta[i]:\n",
    "        ingredientesDisponibles.add(ingr)\n",
    "    #Incluimos ingredientes que no gustan a la lista total de ingredientes\n",
    "    for ingr in noLeGusta[i]:\n",
    "        ingredientesDisponibles.add(ingr)\n",
    "    "
   ]
  },
  {
   "cell_type": "markdown",
   "metadata": {},
   "source": [
    "# Solucion aleatoria"
   ]
  },
  {
   "cell_type": "code",
   "execution_count": 13,
   "metadata": {},
   "outputs": [],
   "source": [
    "\n",
    "    #Solucion aleatoria\n",
    "    sol= random.sample(ingredientesDisponibles,random.randint(1,len(ingredientesDisponibles)))\n",
    "    \n",
    "    #imprimirSolucion(sol)"
   ]
  },
  {
   "cell_type": "markdown",
   "metadata": {},
   "source": [
    "# Leyendo dataFrame con Pandas"
   ]
  },
  {
   "cell_type": "code",
   "execution_count": 14,
   "metadata": {},
   "outputs": [],
   "source": [
    "\n",
    "\n",
    "    #Dataframe de lo que gusta y no gusta:\n",
    "    dfGusta = pd.DataFrame(columns = ['Ingredientes', 'Conteo'])\n",
    "    #Dataframe de lo que no gusta:\n",
    "    dfNoGusta = pd.DataFrame(columns = ['Ingredientes', 'Conteo'])\n",
    "\n",
    "    for ingr in ingredientesDisponibles:\n",
    "        #Para cada elemento, contamos cuantos hay\n",
    "        elementos=sum(x.count(ingr) for x in leGusta)\n",
    "\n",
    "        fila = pd.Series([ingr,elementos], index = dfGusta.columns)\n",
    "        dfGusta = dfGusta.append(fila, ignore_index=True)\n",
    "       \n",
    "\n",
    "    for ingr in ingredientesDisponibles:\n",
    "        #Para cada elemento, contamos cuantos hay\n",
    "        elementos=sum(x.count(ingr) for x in noLeGusta)\n",
    "\n",
    "        fila = pd.Series([ingr,elementos], index = dfNoGusta.columns)\n",
    "        dfNoGusta = dfNoGusta.append(fila, ignore_index=True)\n",
    "\n",
    "       \n",
    "\n",
    "\n"
   ]
  },
  {
   "cell_type": "markdown",
   "metadata": {},
   "source": [
    "# Histograma \"Gustan\""
   ]
  },
  {
   "cell_type": "code",
   "execution_count": 6,
   "metadata": {},
   "outputs": [
    {
     "data": {
      "image/png": "[encoded data removed]",
      "text/plain": [
       "<Figure size 432x288 with 1 Axes>"
      ]
     },
     "metadata": {
      "needs_background": "light"
     },
     "output_type": "display_data"
    }
   ],
   "source": [
    "fig= dfGusta.plot.bar(x='Ingredientes', y='Conteo', rot=0.,title='Ingredientes que gustan')\n",
    "fig.get_figure().savefig(\"analisis/histograma/\"+fichero+\"-Gusta.pdf\")\n"
   ]
  },
  {
   "cell_type": "markdown",
   "metadata": {},
   "source": [
    "# Histrogram \"No gustan\""
   ]
  },
  {
   "cell_type": "code",
   "execution_count": 7,
   "metadata": {},
   "outputs": [
    {
     "data": {
      "image/png": "[encoded data removed]",
      "text/plain": [
       "<Figure size 432x288 with 1 Axes>"
      ]
     },
     "metadata": {
      "needs_background": "light"
     },
     "output_type": "display_data"
    }
   ],
   "source": [
    "fig=dfNoGusta.plot.bar(x='Ingredientes', y='Conteo', rot=0,title='Ingredientes no gustan')\n",
    "fig.get_figure().savefig(\"analisis/histograma/\"+fichero+\"-NoGusta.pdf\")\n"
   ]
  },
  {
   "cell_type": "markdown",
   "metadata": {},
   "source": [
    "# Ordenamos \"Gusta\" y mostramos primeros"
   ]
  },
  {
   "cell_type": "code",
   "execution_count": 8,
   "metadata": {},
   "outputs": [
    {
     "data": {
      "text/html": [
       "<div>\n",
       "<style scoped>\n",
       "    .dataframe tbody tr th:only-of-type {\n",
       "        vertical-align: middle;\n",
       "    }\n",
       "\n",
       "    .dataframe tbody tr th {\n",
       "        vertical-align: top;\n",
       "    }\n",
       "\n",
       "    .dataframe thead th {\n",
       "        text-align: right;\n",
       "    }\n",
       "</style>\n",
       "<table border=\"1\" class=\"dataframe\">\n",
       "  <thead>\n",
       "    <tr style=\"text-align: right;\">\n",
       "      <th></th>\n",
       "      <th>Ingredientes</th>\n",
       "      <th>Conteo</th>\n",
       "    </tr>\n",
       "  </thead>\n",
       "  <tbody>\n",
       "    <tr>\n",
       "      <th>2</th>\n",
       "      <td>dlust</td>\n",
       "      <td>6</td>\n",
       "    </tr>\n",
       "    <tr>\n",
       "      <th>1</th>\n",
       "      <td>luncl</td>\n",
       "      <td>5</td>\n",
       "    </tr>\n",
       "    <tr>\n",
       "      <th>6</th>\n",
       "      <td>vxglq</td>\n",
       "      <td>4</td>\n",
       "    </tr>\n",
       "    <tr>\n",
       "      <th>3</th>\n",
       "      <td>akuof</td>\n",
       "      <td>3</td>\n",
       "    </tr>\n",
       "    <tr>\n",
       "      <th>4</th>\n",
       "      <td>byyii</td>\n",
       "      <td>3</td>\n",
       "    </tr>\n",
       "  </tbody>\n",
       "</table>\n",
       "</div>"
      ],
      "text/plain": [
       "  Ingredientes Conteo\n",
       "2        dlust      6\n",
       "1        luncl      5\n",
       "6        vxglq      4\n",
       "3        akuof      3\n",
       "4        byyii      3"
      ]
     },
     "execution_count": 8,
     "metadata": {},
     "output_type": "execute_result"
    }
   ],
   "source": [
    "dfGusta=dfGusta.sort_values('Conteo', ascending=False)\n",
    "pd.set_option(\"max_rows\", None)\n",
    "dfGusta.head()"
   ]
  },
  {
   "cell_type": "markdown",
   "metadata": {},
   "source": [
    "# Ordenamos \"No gusta\""
   ]
  },
  {
   "cell_type": "code",
   "execution_count": 9,
   "metadata": {},
   "outputs": [
    {
     "data": {
      "text/html": [
       "<div>\n",
       "<style scoped>\n",
       "    .dataframe tbody tr th:only-of-type {\n",
       "        vertical-align: middle;\n",
       "    }\n",
       "\n",
       "    .dataframe tbody tr th {\n",
       "        vertical-align: top;\n",
       "    }\n",
       "\n",
       "    .dataframe thead th {\n",
       "        text-align: right;\n",
       "    }\n",
       "</style>\n",
       "<table border=\"1\" class=\"dataframe\">\n",
       "  <thead>\n",
       "    <tr style=\"text-align: right;\">\n",
       "      <th></th>\n",
       "      <th>Ingredientes</th>\n",
       "      <th>Conteo</th>\n",
       "    </tr>\n",
       "  </thead>\n",
       "  <tbody>\n",
       "    <tr>\n",
       "      <th>0</th>\n",
       "      <td>qzfyo</td>\n",
       "      <td>2</td>\n",
       "    </tr>\n",
       "    <tr>\n",
       "      <th>5</th>\n",
       "      <td>xdozp</td>\n",
       "      <td>2</td>\n",
       "    </tr>\n",
       "    <tr>\n",
       "      <th>3</th>\n",
       "      <td>akuof</td>\n",
       "      <td>1</td>\n",
       "    </tr>\n",
       "    <tr>\n",
       "      <th>4</th>\n",
       "      <td>byyii</td>\n",
       "      <td>1</td>\n",
       "    </tr>\n",
       "    <tr>\n",
       "      <th>8</th>\n",
       "      <td>sunhp</td>\n",
       "      <td>1</td>\n",
       "    </tr>\n",
       "  </tbody>\n",
       "</table>\n",
       "</div>"
      ],
      "text/plain": [
       "  Ingredientes Conteo\n",
       "0        qzfyo      2\n",
       "5        xdozp      2\n",
       "3        akuof      1\n",
       "4        byyii      1\n",
       "8        sunhp      1"
      ]
     },
     "execution_count": 9,
     "metadata": {},
     "output_type": "execute_result"
    }
   ],
   "source": [
    "dfNoGusta=dfNoGusta.sort_values('Conteo', ascending=False)\n",
    "pd.set_option(\"max_rows\", None)\n",
    "dfNoGusta.head()\n"
   ]
  }
 ],
 "metadata": {
  "interpreter": {
   "hash": "fd69f43f58546b570e94fd7eba7b65e6bcc7a5bbc4eab0408017d18902915d69"
  },
  "kernelspec": {
   "display_name": "Python 3.7.5 64-bit",
   "language": "python",
   "name": "python3"
  },
  "language_info": {
   "codemirror_mode": {
    "name": "ipython",
    "version": 3
   },
   "file_extension": ".py",
   "mimetype": "text/x-python",
   "name": "python",
   "nbconvert_exporter": "python",
   "pygments_lexer": "ipython3",
   "version": "3.6.9"
  },
  "orig_nbformat": 4
 },
 "nbformat": 4,
 "nbformat_minor": 2
}
