{
 "cells": [
  {
   "cell_type": "markdown",
   "metadata": {},
   "source": [
    "# Codigo Base ONE PIZZA 2022"
   ]
  },
  {
   "cell_type": "code",
   "execution_count": 1,
   "metadata": {},
   "outputs": [],
   "source": [
    "#!/usr/bin/python3\n",
    "import sys\n",
    "import random\n",
    "import pandas as pd\n",
    "\n",
    "\n",
    "#Variables globales\n",
    "nClientes=0\n",
    "leGusta=[]\n",
    "noLeGusta=[]\n",
    "ingredientesDisponibles=set()\n",
    "\n",
    "\n",
    "#Imprimir solucion\n",
    "\n",
    "def imprimirSolucion(s):\n",
    "    cad=str(len(s))\n",
    "\n",
    "    for x in s:\n",
    "        cad=cad + \" \" + x\n",
    "\n",
    "    print(cad)\n",
    "\n"
   ]
  },
  {
   "cell_type": "markdown",
   "metadata": {},
   "source": [
    "# Indicamos fichero a analizar"
   ]
  },
  {
   "cell_type": "code",
   "execution_count": 2,
   "metadata": {},
   "outputs": [],
   "source": [
    "\n",
    "#Indico que voy a \n",
    "fichero=\"a_an_example.in\"\n",
    "sys.stdin = open(fichero, \"r\")\n"
   ]
  },
  {
   "cell_type": "markdown",
   "metadata": {},
   "source": [
    "# Leyendo datos"
   ]
  },
  {
   "cell_type": "code",
   "execution_count": 3,
   "metadata": {},
   "outputs": [],
   "source": [
    "\n",
    "#Leo el numero de potenciales clientes \n",
    "nClientes=int(sys.stdin.readline())\n",
    "\n",
    "\n",
    "#Por cada cliente, leemos sus preferencias que gustan y no gustan\n",
    "for i in range(nClientes):\n",
    "    leGusta.append(sys.stdin.readline().strip().split(\" \")[1:])\n",
    "    noLeGusta.append(sys.stdin.readline().strip().split(\" \")[1:])\n",
    "\n",
    "    #Incluimos ingredientes que gustan a la lista total de ingredientes\n",
    "    for ingr in leGusta[i]:\n",
    "        ingredientesDisponibles.add(ingr)\n",
    "    #Incluimos ingredientes que no gustan a la lista total de ingredientes\n",
    "    for ingr in noLeGusta[i]:\n",
    "        ingredientesDisponibles.add(ingr)\n",
    "    "
   ]
  },
  {
   "cell_type": "markdown",
   "metadata": {},
   "source": [
    "# Solucion aleatoria"
   ]
  },
  {
   "cell_type": "code",
   "execution_count": 4,
   "metadata": {},
   "outputs": [],
   "source": [
    "\n",
    "    #Solucion aleatoria\n",
    "    sol= random.sample(ingredientesDisponibles,random.randint(1,len(ingredientesDisponibles)))\n",
    "    \n",
    "    #imprimirSolucion(sol)"
   ]
  },
  {
   "cell_type": "markdown",
   "metadata": {},
   "source": [
    "# Leyendo dataFrame con Pandas"
   ]
  },
  {
   "cell_type": "code",
   "execution_count": 5,
   "metadata": {},
   "outputs": [],
   "source": [
    "\n",
    "\n",
    "    #Dataframe de lo que gusta y no gusta:\n",
    "    dfGusta = pd.DataFrame(columns = ['Ingredientes', 'Conteo'])\n",
    "    #Dataframe de lo que no gusta:\n",
    "    dfNoGusta = pd.DataFrame(columns = ['Ingredientes', 'Conteo'])\n",
    "\n",
    "    for ingr in ingredientesDisponibles:\n",
    "        #Para cada elemento, contamos cuantos hay\n",
    "        elementos=sum(x.count(ingr) for x in leGusta)\n",
    "\n",
    "        fila = pd.Series([ingr,elementos], index = dfGusta.columns)\n",
    "        dfGusta = dfGusta.append(fila, ignore_index=True)\n",
    "       \n",
    "\n",
    "\n",
    "    for ingr in ingredientesDisponibles:\n",
    "        #Para cada elemento, contamos cuantos hay\n",
    "        elementos=sum(x.count(ingr) for x in noLeGusta)\n",
    "\n",
    "        fila = pd.Series([ingr,elementos], index = dfNoGusta.columns)\n",
    "        dfNoGusta = dfNoGusta.append(fila, ignore_index=True)\n",
    "       \n",
    "\n",
    "\n"
   ]
  },
  {
   "cell_type": "markdown",
   "metadata": {},
   "source": [
    "# Histograma \"Gustan\""
   ]
  },
  {
   "cell_type": "code",
   "execution_count": 6,
   "metadata": {},
   "outputs": [
    {
     "data": {
      "image/png": "[encoded data removed]",
      "text/plain": [
       "<Figure size 432x288 with 1 Axes>"
      ]
     },
     "metadata": {
      "needs_background": "light"
     },
     "output_type": "display_data"
    }
   ],
   "source": [
    "fig= dfGusta.plot.bar(x='Ingredientes', y='Conteo', rot=0.,title='Ingredientes que gustan')\n",
    "fig.get_figure().savefig(\"analisis/histograma/\"+fichero+\"-Gusta.pdf\")\n"
   ]
  },
  {
   "cell_type": "markdown",
   "metadata": {},
   "source": [
    "# Histrogram \"No gustan\""
   ]
  },
  {
   "cell_type": "code",
   "execution_count": 7,
   "metadata": {},
   "outputs": [
    {
     "data": {
      "image/png": "[encoded data removed]",
      "text/plain": [
       "<Figure size 432x288 with 1 Axes>"
      ]
     },
     "metadata": {
      "needs_background": "light"
     },
     "output_type": "display_data"
    }
   ],
   "source": [
    "dfNoGusta.plot.bar(x='Ingredientes', y='Conteo', rot=0,title='Ingredientes no gustan')\n",
    "fig.get_figure().savefig(\"analisis/histograma/\"+fichero+\"-NoGusta.pdf\")\n"
   ]
  }
 ],
 "metadata": {
  "interpreter": {
   "hash": "fd69f43f58546b570e94fd7eba7b65e6bcc7a5bbc4eab0408017d18902915d69"
  },
  "kernelspec": {
   "display_name": "Python 3.7.5 64-bit",
   "language": "python",
   "name": "python3"
  },
  "language_info": {
   "codemirror_mode": {
    "name": "ipython",
    "version": 3
   },
   "file_extension": ".py",
   "mimetype": "text/x-python",
   "name": "python",
   "nbconvert_exporter": "python",
   "pygments_lexer": "ipython3",
   "version": "3.8.10"
  },
  "orig_nbformat": 4
 },
 "nbformat": 4,
 "nbformat_minor": 2
}
